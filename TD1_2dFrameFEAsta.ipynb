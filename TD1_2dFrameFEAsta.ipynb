{
 "cells": [
  {
   "cell_type": "markdown",
   "metadata": {},
   "source": [
    "# Finite element analysis of an elastic frame"
   ]
  },
  {
   "cell_type": "markdown",
   "metadata": {},
   "source": [
    "______________________________\n",
    "\n",
    "*Date:* 2018-01-02\n",
    "\n",
    "*Author:* Pierre Jehel (<pierre.jehel@centralesupelec.fr>)\n",
    "\n",
    "*Course:* Gestion des Risques Structure (CentraleSupélec, option / MS \"Aménagement et Construction Durables\")\n",
    "______________________________"
   ]
  },
  {
   "cell_type": "markdown",
   "metadata": {},
   "source": [
    "This document presents the principal steps in a finite element analysis program for a simple  structure.\n",
    "For any FE program, the overall procedure is the same.\n",
    "The three main steps are:\n",
    "- Pre-processing: the system is described by the user (inputs)\n",
    "- Processing: the FE mesh is generated and the problem is numerically solved\n",
    "- Post-processing: plotting and analysis of the outputs"
   ]
  },
  {
   "cell_type": "markdown",
   "metadata": {},
   "source": [
    "We first import the Python packages and modules we will need:"
   ]
  },
  {
   "cell_type": "code",
   "execution_count": 2,
   "metadata": {
    "collapsed": true,
    "scrolled": true
   },
   "outputs": [],
   "source": [
    "import numpy as np\n",
    "import numpy.matlib\n",
    "from numpy import linalg\n",
    "import mesGen\n",
    "import strMod"
   ]
  },
  {
   "cell_type": "markdown",
   "metadata": {},
   "source": [
    "## 1. Description of the system"
   ]
  },
  {
   "cell_type": "markdown",
   "metadata": {},
   "source": [
    "User inputs here the description of the structure she/he wants to model:\n",
    "- Structure geometry\n",
    "- Element section geometry\n",
    "- Element material properties\n",
    "- Boundary conditions (loading)\n",
    "- Parameterization for the solution procedure\n",
    "- Output data"
   ]
  },
  {
   "cell_type": "markdown",
   "metadata": {},
   "source": [
    "### 1.1. Structure geometry"
   ]
  },
  {
   "cell_type": "markdown",
   "metadata": {},
   "source": [
    "We consider a 2D frame structure.\n",
    "\n",
    "We first create an array with, for each structural element, the following list: [node I, node J, element type (1: beam/column, 2: rotational spring), element length, global to local rotation angle] (see figure with the description of the structure):"
   ]
  },
  {
   "cell_type": "markdown",
   "metadata": {},
   "source": [
    "Nodes coordinates (2D problem):"
   ]
  },
  {
   "cell_type": "code",
   "execution_count": 3,
   "metadata": {
    "collapsed": true
   },
   "outputs": [],
   "source": [
    "Lf = 8      # bay length [m]\n",
    "Hf = 4      # story height [m]\n",
    "nodCoo = []\n",
    "nodCoo.append([0,0])     # node 0 [X coordinate,Y coordinate]\n",
    "nodCoo.append([Lf,0])    # node 1 [X,Y]\n",
    "nodCoo.append([0,Hf])    # ...\n",
    "nodCoo.append([Lf,Hf])\n",
    "nodCoo.append([0,2*Hf])\n",
    "nodCoo.append([Lf,2*Hf])"
   ]
  },
  {
   "cell_type": "markdown",
   "metadata": {},
   "source": [
    "Elements connect a node I to a node J; we consider different:\n",
    "- element types (0->beam/column; 1->rotational spring)\n",
    "- element sections"
   ]
  },
  {
   "cell_type": "code",
   "execution_count": 4,
   "metadata": {
    "collapsed": true
   },
   "outputs": [],
   "source": [
    "strEle = []\n",
    "strEle.append([0,2,0,0])  # elt 0 [node I, node J, element type, section type] \n",
    "strEle.append([2,4,0,0])  # elt 1\n",
    "strEle.append([1,3,0,1])  # ...\n",
    "strEle.append([3,5,0,1])\n",
    "strEle.append([2,3,0,2])\n",
    "strEle.append([4,5,0,3])"
   ]
  },
  {
   "cell_type": "markdown",
   "metadata": {},
   "source": [
    "### 1.2. Element properties (material and section geometry)"
   ]
  },
  {
   "cell_type": "markdown",
   "metadata": {
    "collapsed": true
   },
   "source": [
    "The geometric properties of selected steel beam sections (see figure) can for instance be found here: <http://ds.arcelormittal.com/repo/Catalog/ArcelorMittal_PV_FR_RU.pdf>\n",
    "\n",
    "![Geometry of a steel beam section.](img/SteelBeamSection.jpg)\n",
    "\n",
    "*Remark:* We will consider that the beams can be described using Euler-Bernoulli kinematic assumptions. Other options are generally available in FE analysis programs such as Timoshenko kinematics.\n",
    "\n",
    "E [N/m2]: material Young's modulus\n",
    "A [m2]  : element cross-section area\n",
    "Iy [m4] : element cross-section moment of inertia wrt centroid"
   ]
  },
  {
   "cell_type": "code",
   "execution_count": 5,
   "metadata": {
    "collapsed": true,
    "scrolled": true
   },
   "outputs": [],
   "source": [
    "eltPro = []\n",
    "eltPro.append([2.1e11,33.4e-4,2772e-8])   # section type 0  [E, A, Iy] -> IPE 220\n",
    "eltPro.append([2.1e11,33.4e-4,2772e-8])   # section type 1\n",
    "eltPro.append([2.1e11,33.4e-4,2772e-8])   # ...\n",
    "eltPro.append([2.1e11,33.4e-4,2772e-8]) "
   ]
  },
  {
   "cell_type": "markdown",
   "metadata": {},
   "source": [
    "### 1.4. Boundary conditions"
   ]
  },
  {
   "cell_type": "markdown",
   "metadata": {},
   "source": [
    "In 'fixDof' array, we indicate for every node whether the DOFs are free or not.\n",
    "The line number of the matrix corresponds to the node number.\n",
    "For each of the 3 DOFs $(u,v,\\theta)$, there is a 1 if the DOF is free and a 0 otherwise:"
   ]
  },
  {
   "cell_type": "code",
   "execution_count": 6,
   "metadata": {
    "collapsed": true
   },
   "outputs": [],
   "source": [
    "fixDof = []\n",
    "fixDof.append([0,0,0])   # node 0\n",
    "fixDof.append([0,0,0])   # node 1\n",
    "fixDof.append([1,1,1])   # ...\n",
    "fixDof.append([1,1,1])\n",
    "fixDof.append([1,1,1])\n",
    "fixDof.append([1,1,1])"
   ]
  },
  {
   "cell_type": "markdown",
   "metadata": {},
   "source": [
    "The frame is fixed in the ground at its base. Uniformly distributed static loadings are applied on both beams; self-weight is neglected:"
   ]
  },
  {
   "cell_type": "code",
   "execution_count": 7,
   "metadata": {
    "collapsed": true
   },
   "outputs": [],
   "source": [
    "q1 = 1.5e5   # [N] 2nd-floor beam\n",
    "q2 = 1.5e5   # [N] 3rd-floor beam"
   ]
  },
  {
   "cell_type": "markdown",
   "metadata": {},
   "source": [
    "In 'staLoa' array, we input external loading actions on nodes:"
   ]
  },
  {
   "cell_type": "code",
   "execution_count": 8,
   "metadata": {
    "collapsed": true
   },
   "outputs": [],
   "source": [
    "Fy1 = q1*Lf/2\n",
    "Mz1 = q1*Lf**2/12\n",
    "Fy2 = q2*Lf/2\n",
    "Mz2 = q2*Lf**2/12\n",
    "bouCon = []\n",
    "bouCon.append([0,0,0])         # node 0 [Dx, Dy, Rz] (displacements)\n",
    "bouCon.append([0,0,0])         # node 1 [Dx, Dy, Rz] (displacements)\n",
    "bouCon.append([0,-Fy1,-Mz1])   # node 2 [Fx, Fy, Mz] (forces)\n",
    "bouCon.append([0,-Fy1,Mz1])    # ...\n",
    "bouCon.append([0,-Fy2,-Mz2])\n",
    "bouCon.append([0,-Fy2,Mz2])"
   ]
  },
  {
   "cell_type": "markdown",
   "metadata": {},
   "source": [
    "## 2. Mesh generation"
   ]
  },
  {
   "cell_type": "markdown",
   "metadata": {},
   "source": [
    "In this simple example, the only thing that has to be done for generating the mesh is computing element length and orientation ($cos(\\theta)$ and $sin(\\theta)$ where $\\theta$ is the angle between local and global coordinate systems). We get these mesh data as:"
   ]
  },
  {
   "cell_type": "code",
   "execution_count": 9,
   "metadata": {
    "collapsed": true
   },
   "outputs": [],
   "source": [
    "# mesh data\n",
    "mesDat = mesGen.eltL0(strEle,nodCoo)\n",
    "\n",
    "# number of free DOFs\n",
    "nDof = np.sum(fixDof)"
   ]
  },
  {
   "cell_type": "markdown",
   "metadata": {},
   "source": [
    "## 3. Resolution procedure"
   ]
  },
  {
   "cell_type": "markdown",
   "metadata": {},
   "source": [
    "We recall that the element stiffness matrix with Euler-Bernoulli kinematics reads:\n",
    "\n",
    "![Geometry of a steel beam section.](img/EB-beam-K-matrix.pdf)"
   ]
  },
  {
   "cell_type": "markdown",
   "metadata": {},
   "source": [
    "Let's solve the problem now:"
   ]
  },
  {
   "cell_type": "code",
   "execution_count": 10,
   "metadata": {
    "collapsed": true,
    "scrolled": true
   },
   "outputs": [],
   "source": [
    "# external forces vector\n",
    "fe_v = strMod.extLoa(nDof,fixDof,bouCon)\n",
    "    \n",
    "# structural stiffness matrix K\n",
    "K_m = strMod.stiMat(nDof,strEle,mesDat,eltPro,fixDof)\n",
    "\n",
    "# compute displacements at free DOFs\n",
    "dis_v = linalg.solve(K_m,fe_v)"
   ]
  },
  {
   "cell_type": "markdown",
   "metadata": {},
   "source": [
    "We now have the displacements in the global coordinates system (the primary unknowns of the problem) at the free DOFs.\n",
    "\n",
    "Because there are 3 DOFs at each node (longitudinal and transversal translations and rotation), the $\\texttt{dis_v}$ vector is of size $6*3-6=12$ (6 nodes * 3 DOFs/node - 6 frozen DOFs). The frozen DOFs correspond to the nodes fixed in the ground. \n",
    "\n",
    "The first 3 elements of vector $\\texttt{dis_v}$ are, respectively, the longitudinal and transversal translations and the rotation at node 2; then the elements 4 to 6 of the vector $\\texttt{dis_v}$ correspond to the displacements at node 3; and so on."
   ]
  },
  {
   "cell_type": "markdown",
   "metadata": {
    "collapsed": true
   },
   "source": [
    "## 4. Outputs analysis"
   ]
  },
  {
   "cell_type": "markdown",
   "metadata": {},
   "source": [
    "### 4.1. Internal forces"
   ]
  },
  {
   "cell_type": "markdown",
   "metadata": {},
   "source": [
    "We are now interested in computing the internal forces in the elements connected to node 2 (elements 0, 1, and 4). This can be computed from the primary unknowns of the problem (the displacements of the free DOFs in the global coordinates system) as follows:\n",
    "- Retrieve in vector $\\texttt{dis_v}$ the displacements at both ends of each element:"
   ]
  },
  {
   "cell_type": "code",
   "execution_count": 11,
   "metadata": {
    "collapsed": true
   },
   "outputs": [],
   "source": [
    "# element 0 (column)\n",
    "dis0_v = np.matlib.zeros((6,1))\n",
    "dis0_v[0] = 0\n",
    "dis0_v[1] = 0\n",
    "dis0_v[2] = 0\n",
    "dis0_v[3] = dis_v[0]\n",
    "dis0_v[4] = dis_v[1]\n",
    "dis0_v[5] = dis_v[2]\n",
    "\n",
    "# element 1 (column)\n",
    "dis1_v = np.matlib.zeros((6,1))\n",
    "dis1_v[0] = dis_v[0]\n",
    "dis1_v[1] = dis_v[1]\n",
    "dis1_v[2] = dis_v[2]\n",
    "dis1_v[3] = dis_v[6]\n",
    "dis1_v[4] = dis_v[7]\n",
    "dis1_v[5] = dis_v[8]\n",
    "\n",
    "# element 4 (beam)\n",
    "dis4_v = np.matlib.zeros((6,1))\n",
    "dis4_v[0] = dis_v[0]\n",
    "dis4_v[1] = dis_v[1]\n",
    "dis4_v[2] = dis_v[2]\n",
    "dis4_v[3] = dis_v[3]\n",
    "dis4_v[4] = dis_v[4]\n",
    "dis4_v[5] = dis_v[5]"
   ]
  },
  {
   "cell_type": "markdown",
   "metadata": {},
   "source": [
    "- Project the displacements into the local coordinates system:"
   ]
  },
  {
   "cell_type": "code",
   "execution_count": 12,
   "metadata": {
    "collapsed": true
   },
   "outputs": [],
   "source": [
    "# build transformation matrix\n",
    "# for the columns:\n",
    "#    Global    -->   Local\n",
    "#   Y                      x\n",
    "#   |                      |\n",
    "#   |          -->         |\n",
    "#   O----> X        y <----O\n",
    "cos = 0\n",
    "sin = 1\n",
    "R_m = strMod.glo2loc_2D(cos,sin)\n",
    "        \n",
    "# displacements in local coordinates system\n",
    "dis0loc_v = R_m*dis0_v   # column\n",
    "dis1loc_v = R_m*dis1_v   # column\n",
    "dis4loc_v = dis4_v       # beam"
   ]
  },
  {
   "cell_type": "markdown",
   "metadata": {},
   "source": [
    "- Compute the internal forces (normal force, shear force, bendiing moment):"
   ]
  },
  {
   "cell_type": "code",
   "execution_count": 13,
   "metadata": {
    "collapsed": true
   },
   "outputs": [],
   "source": [
    "# retrieve stiffness matrices in the local coordinates system\n",
    "KeCol_m = strMod.beaSti_EB_2D_loc(2.1e11,33.4e-4,Hf,2772e-8)\n",
    "KeBea_m = strMod.beaSti_EB_2D_loc(2.1e11,33.4e-4,Lf,2772e-8)\n",
    "\n",
    "# compute internal nodal forces (F=K*d)\n",
    "forInt0_v = KeCol_m*dis0loc_v   # element 0\n",
    "forInt1_v = KeCol_m*dis1loc_v   # element 1\n",
    "forInt4_v = KeBea_m*dis4loc_v   # element 4"
   ]
  },
  {
   "cell_type": "code",
   "execution_count": 14,
   "metadata": {
    "scrolled": true
   },
   "outputs": [
    {
     "name": "stdout",
     "output_type": "stream",
     "text": [
      "F_elmt0 =\n",
      "[[ 1200000.        ]\n",
      " [  -89278.25303849]\n",
      " [ -119877.16952566]\n",
      " [-1200000.        ]\n",
      " [   89278.25303849]\n",
      " [ -237235.84262829]]\n",
      "F_elmt1 =\n",
      "[[ 600000.        ]\n",
      " [-291581.71751491]\n",
      " [-504084.8208204 ]\n",
      " [-600000.        ]\n",
      " [ 291581.71751491]\n",
      " [-662242.04923926]]\n",
      "F_elmt4 =\n",
      "[[ -2.02303464e+05]\n",
      " [  7.27595761e-12]\n",
      " [ -5.86793366e+04]\n",
      " [  2.02303464e+05]\n",
      " [ -7.27595761e-12]\n",
      " [  5.86793366e+04]]\n"
     ]
    }
   ],
   "source": [
    "# show internal nodal forces\n",
    "print('F_elmt0 =')\n",
    "print(forInt0_v)\n",
    "print('F_elmt1 =')\n",
    "print(forInt1_v)\n",
    "print('F_elmt4 =')\n",
    "print(forInt4_v)"
   ]
  },
  {
   "cell_type": "markdown",
   "metadata": {},
   "source": [
    "Some comments on these values:\n",
    "- In each element internal forces vector, the 3 first components are respectively the normal force $N$, the shear force $V$ and the bending moment $M$ at the left end $I$; the 3 last components are the same quantities but at the right end $J$ of the element\n",
    "- In element 0 (column): $N^0_I=120.0~kN$, $V^0_I = -89.3~kN$, $M^0_I = -120.0~kN.m$, $N^0_J=-120.0~kN$, $V^0_J = 89.3~kN$, $M^0_J = -237.2~kN.m$\n",
    "- Because element 0 is fixed at its left end $I$, $(-N,-V,-M)^0_I$ correspond to the reactions at node 0. This information is useful for designing the foundations of the structure and the connection at node 0.\n",
    "- At node 2, the right end of element 0 is connected to the left end of both elements 1 (column) and 4 (beam). We can check that the equilibrium of node 2 is satisfied, that is that the internal forces equilibrite the external action due to the uniformly distributed loading along element 4 (beam):\n",
    "    - Force along the Y-axis generated by the loading: $F^{ext}_{2,Y} = -q1 \\times Lf/2 = -60~kN$\n",
    "    - Moment around the Z-axis generated by the loading: $M^{ext}_{2,Y} = -q1 \\times Lf^2/12 = -800~kN.m$\n",
    "    - Equilibrium of the forces along the X-axis: $-V^0_J-V^1_I+N^4_I = -89.3+291.6-202.3 = 0$ -> OK\n",
    "    - Equilibrium of the forces along the Y-axis: $N^0_J+N^1_I+V^4_I = -120.0+60.0+0.0 = -60.0~kN = F^{ext}_{2,Y}$ -> OK\n",
    "    - Equilibrium of the moments around the Z-axis: $M^0_J+M^1_I+M^4_I = -237.2-504.1-58.7 = -800~kN.m = M^{ext}_{2,Y}$ -> OK"
   ]
  },
  {
   "cell_type": "markdown",
   "metadata": {
    "collapsed": true
   },
   "source": [
    "### 4.2. Normal stresses"
   ]
  },
  {
   "cell_type": "markdown",
   "metadata": {},
   "source": [
    "We can now focus on the normal stresses $\\sigma_{xx}(x,y)$ in the structural elements. In an element $e$ of cross-section area $A$, length $L$, and moment of inertia $I_z$ they can be computed from the formula:\n",
    "\n",
    "\\begin{equation}\n",
    " \\sigma^e_{xx}(x,y) = \\frac{N^e(x)}{A} + \\frac{M^e(x) \\, y}{I_z}\n",
    "\\end{equation}\n",
    "\n",
    "where\n",
    "\n",
    "\\begin{eqnarray}\n",
    " & N^e(x) = \\nu(x) + N^e_I\\left(1-\\frac{x}{L}\\right) - N^e_J \\frac{x}{L} \\\\\n",
    " & M^e(x) = \\mu(x) - M^e_I\\left(1-\\frac{x}{L}\\right) + M^e_J \\frac{x}{L}\n",
    "\\end{eqnarray}\n",
    "\n",
    "with $\\nu(x)$ and $\\mu(x)$ the normal force and bending moment in the isostatic version of the element $e$. For instance, element 4 is uniformly loaded with distributed vertical load $-q_1$, in this case:\n",
    "- $\\nu(x) = 0$\n",
    "- $\\mu(x) = q_1 x (Lf - x) / 2$"
   ]
  },
  {
   "cell_type": "code",
   "execution_count": null,
   "metadata": {
    "collapsed": true
   },
   "outputs": [],
   "source": []
  }
 ],
 "metadata": {
  "kernelspec": {
   "display_name": "Python 3",
   "language": "python",
   "name": "python3"
  },
  "language_info": {
   "codemirror_mode": {
    "name": "ipython",
    "version": 3
   },
   "file_extension": ".py",
   "mimetype": "text/x-python",
   "name": "python",
   "nbconvert_exporter": "python",
   "pygments_lexer": "ipython3",
   "version": "3.6.1"
  }
 },
 "nbformat": 4,
 "nbformat_minor": 2
}
